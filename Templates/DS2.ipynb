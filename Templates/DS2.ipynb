{
 "cells": [
  {
   "cell_type": "markdown",
   "metadata": {},
   "source": [
    "# Data Science challenge part 2"
   ]
  },
  {
   "cell_type": "markdown",
   "metadata": {},
   "source": [
    "   In 2 pages or less develop a plan to classify the descriptions, and automatically\n",
    "   determine which part has been replaced.  Be specific, and explain in terms which can\n",
    "   be understood by someone who is not a specialist in natual language processing.\n",
    "   \n",
    "   Estimate the accuracy of your proposed model.\n",
    "   State which libraries you might use and what might have to be written from scratch.\n",
    "   \n",
    "   Explain how you would validate the model on a larger data set."
   ]
  },
  {
   "cell_type": "markdown",
   "metadata": {},
   "source": [
    "#### Plan"
   ]
  },
  {
   "cell_type": "markdown",
   "metadata": {},
   "source": [
    "\n",
    "The plan to classify the descriptions has 3 parts.\n",
    " \n",
    " First: Import all the text data and do the preprocessing.\n",
    "        The preprocessing includes: \n",
    "            - Transforming all the letters to lower case, \n",
    "            - Remove non-descriptive words such as articles and prepositions (a, the, and...) \n",
    "            - Remove the verbal time from the words. ie: inspected -> inspect\n",
    "        For this part, the library \"nltk\" will be used. \n",
    "        This step of \"cleaning\" the text is necessary because to create the model, it will consider the words of the\n",
    "        description to determine the output (part name). Therefore, only meaningfull words will be considered. \n",
    "        The algorithm takes in consideration every word from every data entry to create a sparcity matrix to analysis the trend\n",
    "        based on the incidence of each word in each data entry and associate it with the target variable.\n",
    "        \n",
    " Second: Create the \"bag of words\".\n",
    "         After cleaning the data, we create the bag of words, which is the sparcity matrix mentioned before.\n",
    "         This matrix will be the data necessary to train the model.\n",
    "         This is a simple step and the library sklearn.feature_extraction.text will be used to accomplish that.\n",
    "        \n",
    " Third: Create the machine learning model, make the prediction, and the estimate the accuracy. \n",
    "        A popular model for natural language processing is the Naive Bayes. I will be using this model from the \n",
    "        sklearn library to create my model. \n",
    "        The data will be separated in train and test. This way, it will be possible to evaluate the model.\n",
    "        The sklearn.metrics will give us the ability to use the confusion_matrix for evaluation. \n",
    "       \n",
    " To validate this model for a large dataset, the same steps would be taken. However, with more data, the model will be able \n",
    " to better analyze the trend and be more accurate. With such a small dataset, the model achieved an accuracy of 70%.\n"
   ]
  },
  {
   "cell_type": "markdown",
   "metadata": {},
   "source": [
    "### Importing libraries"
   ]
  },
  {
   "cell_type": "code",
   "execution_count": 1,
   "metadata": {},
   "outputs": [],
   "source": [
    "import numpy as np\n",
    "import matplotlib.pyplot as plt\n",
    "import pandas as pd\n",
    "import seaborn as sns\n",
    "import warnings\n",
    "warnings.simplefilter(\"ignore\")"
   ]
  },
  {
   "cell_type": "markdown",
   "metadata": {},
   "source": [
    "### Import the dataset"
   ]
  },
  {
   "cell_type": "code",
   "execution_count": 2,
   "metadata": {},
   "outputs": [],
   "source": [
    "starter_actions = pd.read_csv('starter_actions.csv')\n",
    "alternator_actions = pd.read_csv('alternator_actions.csv')"
   ]
  },
  {
   "cell_type": "markdown",
   "metadata": {},
   "source": [
    "### Pre-processing"
   ]
  },
  {
   "cell_type": "code",
   "execution_count": 3,
   "metadata": {
    "scrolled": true
   },
   "outputs": [
    {
     "data": {
      "text/html": [
       "<div>\n",
       "<style scoped>\n",
       "    .dataframe tbody tr th:only-of-type {\n",
       "        vertical-align: middle;\n",
       "    }\n",
       "\n",
       "    .dataframe tbody tr th {\n",
       "        vertical-align: top;\n",
       "    }\n",
       "\n",
       "    .dataframe thead th {\n",
       "        text-align: right;\n",
       "    }\n",
       "</style>\n",
       "<table border=\"1\" class=\"dataframe\">\n",
       "  <thead>\n",
       "    <tr style=\"text-align: right;\">\n",
       "      <th></th>\n",
       "      <th>correction_description</th>\n",
       "      <th>\"part_name\"</th>\n",
       "    </tr>\n",
       "  </thead>\n",
       "  <tbody>\n",
       "    <tr>\n",
       "      <th>0</th>\n",
       "      <td>inspected vehicle for clicking and no start co...</td>\n",
       "      <td>\"STARTER\"</td>\n",
       "    </tr>\n",
       "    <tr>\n",
       "      <th>1</th>\n",
       "      <td>CHECK FOR NO START JUST CLICK CHECKED FOR A NO...</td>\n",
       "      <td>\"STARTER\"</td>\n",
       "    </tr>\n",
       "    <tr>\n",
       "      <th>2</th>\n",
       "      <td>INSPECT NO START CHECK CODES-P127A STARTER CON...</td>\n",
       "      <td>\"STARTER\"</td>\n",
       "    </tr>\n",
       "    <tr>\n",
       "      <th>3</th>\n",
       "      <td>CHECK NO START    OK NOW REMOVE CONNECTIONS OF...</td>\n",
       "      <td>\"STARTER\"</td>\n",
       "    </tr>\n",
       "    <tr>\n",
       "      <th>4</th>\n",
       "      <td>7 way connector wiring has melted on exhaust r...</td>\n",
       "      <td>\"STARTER\"</td>\n",
       "    </tr>\n",
       "  </tbody>\n",
       "</table>\n",
       "</div>"
      ],
      "text/plain": [
       "                              correction_description  \"part_name\"\n",
       "0  inspected vehicle for clicking and no start co...    \"STARTER\"\n",
       "1  CHECK FOR NO START JUST CLICK CHECKED FOR A NO...    \"STARTER\"\n",
       "2  INSPECT NO START CHECK CODES-P127A STARTER CON...    \"STARTER\"\n",
       "3  CHECK NO START    OK NOW REMOVE CONNECTIONS OF...    \"STARTER\"\n",
       "4  7 way connector wiring has melted on exhaust r...    \"STARTER\""
      ]
     },
     "execution_count": 3,
     "metadata": {},
     "output_type": "execute_result"
    }
   ],
   "source": [
    "starter_actions.head()"
   ]
  },
  {
   "cell_type": "code",
   "execution_count": 4,
   "metadata": {},
   "outputs": [
    {
     "data": {
      "text/html": [
       "<div>\n",
       "<style scoped>\n",
       "    .dataframe tbody tr th:only-of-type {\n",
       "        vertical-align: middle;\n",
       "    }\n",
       "\n",
       "    .dataframe tbody tr th {\n",
       "        vertical-align: top;\n",
       "    }\n",
       "\n",
       "    .dataframe thead th {\n",
       "        text-align: right;\n",
       "    }\n",
       "</style>\n",
       "<table border=\"1\" class=\"dataframe\">\n",
       "  <thead>\n",
       "    <tr style=\"text-align: right;\">\n",
       "      <th></th>\n",
       "      <th>correction_description</th>\n",
       "      <th>part_name</th>\n",
       "    </tr>\n",
       "  </thead>\n",
       "  <tbody>\n",
       "    <tr>\n",
       "      <th>0</th>\n",
       "      <td>inspected vehicle for clicking and no start co...</td>\n",
       "      <td>1.0</td>\n",
       "    </tr>\n",
       "    <tr>\n",
       "      <th>1</th>\n",
       "      <td>CHECK FOR NO START JUST CLICK CHECKED FOR A NO...</td>\n",
       "      <td>1.0</td>\n",
       "    </tr>\n",
       "    <tr>\n",
       "      <th>2</th>\n",
       "      <td>INSPECT NO START CHECK CODES-P127A STARTER CON...</td>\n",
       "      <td>1.0</td>\n",
       "    </tr>\n",
       "    <tr>\n",
       "      <th>3</th>\n",
       "      <td>CHECK NO START    OK NOW REMOVE CONNECTIONS OF...</td>\n",
       "      <td>1.0</td>\n",
       "    </tr>\n",
       "    <tr>\n",
       "      <th>4</th>\n",
       "      <td>7 way connector wiring has melted on exhaust r...</td>\n",
       "      <td>1.0</td>\n",
       "    </tr>\n",
       "  </tbody>\n",
       "</table>\n",
       "</div>"
      ],
      "text/plain": [
       "                              correction_description  part_name\n",
       "0  inspected vehicle for clicking and no start co...        1.0\n",
       "1  CHECK FOR NO START JUST CLICK CHECKED FOR A NO...        1.0\n",
       "2  INSPECT NO START CHECK CODES-P127A STARTER CON...        1.0\n",
       "3  CHECK NO START    OK NOW REMOVE CONNECTIONS OF...        1.0\n",
       "4  7 way connector wiring has melted on exhaust r...        1.0"
      ]
     },
     "execution_count": 4,
     "metadata": {},
     "output_type": "execute_result"
    }
   ],
   "source": [
    "starter_actions.drop(columns = [' \"part_name\"'], inplace = True)\n",
    "starter_actions['part_name'] = np.ones(starter_actions.shape[0])\n",
    "starter_actions.head()"
   ]
  },
  {
   "cell_type": "code",
   "execution_count": 5,
   "metadata": {},
   "outputs": [
    {
     "data": {
      "text/html": [
       "<div>\n",
       "<style scoped>\n",
       "    .dataframe tbody tr th:only-of-type {\n",
       "        vertical-align: middle;\n",
       "    }\n",
       "\n",
       "    .dataframe tbody tr th {\n",
       "        vertical-align: top;\n",
       "    }\n",
       "\n",
       "    .dataframe thead th {\n",
       "        text-align: right;\n",
       "    }\n",
       "</style>\n",
       "<table border=\"1\" class=\"dataframe\">\n",
       "  <thead>\n",
       "    <tr style=\"text-align: right;\">\n",
       "      <th></th>\n",
       "      <th>correction_description</th>\n",
       "      <th>\"part_name\"</th>\n",
       "    </tr>\n",
       "  </thead>\n",
       "  <tbody>\n",
       "    <tr>\n",
       "      <th>0</th>\n",
       "      <td>CHECK NO START CHARGE BATT ALT NOT CHARGING   ...</td>\n",
       "      <td>\"ALTERNATOR\"</td>\n",
       "    </tr>\n",
       "    <tr>\n",
       "      <th>1</th>\n",
       "      <td>check mil light   p3119 stored road test light...</td>\n",
       "      <td>\"ALTERNATOR\"</td>\n",
       "    </tr>\n",
       "    <tr>\n",
       "      <th>2</th>\n",
       "      <td>check mil light   p3119 stored road test light...</td>\n",
       "      <td>\"ALTERNATOR\"</td>\n",
       "    </tr>\n",
       "    <tr>\n",
       "      <th>3</th>\n",
       "      <td>TEST BATTERY AND CHARGED TESTED ALTERNATOR NEE...</td>\n",
       "      <td>\"ALTERNATOR\"</td>\n",
       "    </tr>\n",
       "    <tr>\n",
       "      <th>4</th>\n",
       "      <td>DIAGNOSIS FOR NO START. SCAN FOR CODE U0100 LO...</td>\n",
       "      <td>\"ALTERNATOR\"</td>\n",
       "    </tr>\n",
       "  </tbody>\n",
       "</table>\n",
       "</div>"
      ],
      "text/plain": [
       "                              correction_description    \"part_name\"\n",
       "0  CHECK NO START CHARGE BATT ALT NOT CHARGING   ...   \"ALTERNATOR\"\n",
       "1  check mil light   p3119 stored road test light...   \"ALTERNATOR\"\n",
       "2  check mil light   p3119 stored road test light...   \"ALTERNATOR\"\n",
       "3  TEST BATTERY AND CHARGED TESTED ALTERNATOR NEE...   \"ALTERNATOR\"\n",
       "4  DIAGNOSIS FOR NO START. SCAN FOR CODE U0100 LO...   \"ALTERNATOR\""
      ]
     },
     "execution_count": 5,
     "metadata": {},
     "output_type": "execute_result"
    }
   ],
   "source": [
    "alternator_actions.head()"
   ]
  },
  {
   "cell_type": "code",
   "execution_count": 6,
   "metadata": {},
   "outputs": [
    {
     "data": {
      "text/html": [
       "<div>\n",
       "<style scoped>\n",
       "    .dataframe tbody tr th:only-of-type {\n",
       "        vertical-align: middle;\n",
       "    }\n",
       "\n",
       "    .dataframe tbody tr th {\n",
       "        vertical-align: top;\n",
       "    }\n",
       "\n",
       "    .dataframe thead th {\n",
       "        text-align: right;\n",
       "    }\n",
       "</style>\n",
       "<table border=\"1\" class=\"dataframe\">\n",
       "  <thead>\n",
       "    <tr style=\"text-align: right;\">\n",
       "      <th></th>\n",
       "      <th>correction_description</th>\n",
       "      <th>part_name</th>\n",
       "    </tr>\n",
       "  </thead>\n",
       "  <tbody>\n",
       "    <tr>\n",
       "      <th>0</th>\n",
       "      <td>CHECK NO START CHARGE BATT ALT NOT CHARGING   ...</td>\n",
       "      <td>0.0</td>\n",
       "    </tr>\n",
       "    <tr>\n",
       "      <th>1</th>\n",
       "      <td>check mil light   p3119 stored road test light...</td>\n",
       "      <td>0.0</td>\n",
       "    </tr>\n",
       "    <tr>\n",
       "      <th>2</th>\n",
       "      <td>check mil light   p3119 stored road test light...</td>\n",
       "      <td>0.0</td>\n",
       "    </tr>\n",
       "    <tr>\n",
       "      <th>3</th>\n",
       "      <td>TEST BATTERY AND CHARGED TESTED ALTERNATOR NEE...</td>\n",
       "      <td>0.0</td>\n",
       "    </tr>\n",
       "    <tr>\n",
       "      <th>4</th>\n",
       "      <td>DIAGNOSIS FOR NO START. SCAN FOR CODE U0100 LO...</td>\n",
       "      <td>0.0</td>\n",
       "    </tr>\n",
       "  </tbody>\n",
       "</table>\n",
       "</div>"
      ],
      "text/plain": [
       "                              correction_description  part_name\n",
       "0  CHECK NO START CHARGE BATT ALT NOT CHARGING   ...        0.0\n",
       "1  check mil light   p3119 stored road test light...        0.0\n",
       "2  check mil light   p3119 stored road test light...        0.0\n",
       "3  TEST BATTERY AND CHARGED TESTED ALTERNATOR NEE...        0.0\n",
       "4  DIAGNOSIS FOR NO START. SCAN FOR CODE U0100 LO...        0.0"
      ]
     },
     "execution_count": 6,
     "metadata": {},
     "output_type": "execute_result"
    }
   ],
   "source": [
    "alternator_actions.drop(columns = [' \"part_name\"'], inplace = True)\n",
    "alternator_actions['part_name'] = np.zeros(alternator_actions.shape[0])\n",
    "alternator_actions.head()"
   ]
  },
  {
   "cell_type": "code",
   "execution_count": 7,
   "metadata": {},
   "outputs": [
    {
     "data": {
      "text/html": [
       "<div>\n",
       "<style scoped>\n",
       "    .dataframe tbody tr th:only-of-type {\n",
       "        vertical-align: middle;\n",
       "    }\n",
       "\n",
       "    .dataframe tbody tr th {\n",
       "        vertical-align: top;\n",
       "    }\n",
       "\n",
       "    .dataframe thead th {\n",
       "        text-align: right;\n",
       "    }\n",
       "</style>\n",
       "<table border=\"1\" class=\"dataframe\">\n",
       "  <thead>\n",
       "    <tr style=\"text-align: right;\">\n",
       "      <th></th>\n",
       "      <th>correction_description</th>\n",
       "      <th>part_name</th>\n",
       "    </tr>\n",
       "  </thead>\n",
       "  <tbody>\n",
       "    <tr>\n",
       "      <th>0</th>\n",
       "      <td>inspected vehicle for clicking and no start co...</td>\n",
       "      <td>1.0</td>\n",
       "    </tr>\n",
       "    <tr>\n",
       "      <th>1</th>\n",
       "      <td>CHECK FOR NO START JUST CLICK CHECKED FOR A NO...</td>\n",
       "      <td>1.0</td>\n",
       "    </tr>\n",
       "    <tr>\n",
       "      <th>2</th>\n",
       "      <td>INSPECT NO START CHECK CODES-P127A STARTER CON...</td>\n",
       "      <td>1.0</td>\n",
       "    </tr>\n",
       "    <tr>\n",
       "      <th>3</th>\n",
       "      <td>CHECK NO START    OK NOW REMOVE CONNECTIONS OF...</td>\n",
       "      <td>1.0</td>\n",
       "    </tr>\n",
       "    <tr>\n",
       "      <th>4</th>\n",
       "      <td>7 way connector wiring has melted on exhaust r...</td>\n",
       "      <td>1.0</td>\n",
       "    </tr>\n",
       "  </tbody>\n",
       "</table>\n",
       "</div>"
      ],
      "text/plain": [
       "                              correction_description  part_name\n",
       "0  inspected vehicle for clicking and no start co...        1.0\n",
       "1  CHECK FOR NO START JUST CLICK CHECKED FOR A NO...        1.0\n",
       "2  INSPECT NO START CHECK CODES-P127A STARTER CON...        1.0\n",
       "3  CHECK NO START    OK NOW REMOVE CONNECTIONS OF...        1.0\n",
       "4  7 way connector wiring has melted on exhaust r...        1.0"
      ]
     },
     "execution_count": 7,
     "metadata": {},
     "output_type": "execute_result"
    }
   ],
   "source": [
    "dataframe = pd.concat([starter_actions, alternator_actions], axis = 0, sort = False)\n",
    "dataframe = dataframe.reset_index(drop = True)\n",
    "dataframe.head()"
   ]
  },
  {
   "cell_type": "markdown",
   "metadata": {},
   "source": [
    "### lower case all the letters"
   ]
  },
  {
   "cell_type": "code",
   "execution_count": 8,
   "metadata": {},
   "outputs": [],
   "source": [
    "for i in range(0, dataframe.shape[0]):\n",
    "    dataframe['correction_description'][i] = dataframe['correction_description'][i].lower()"
   ]
  },
  {
   "cell_type": "code",
   "execution_count": 9,
   "metadata": {},
   "outputs": [
    {
     "data": {
      "text/html": [
       "<div>\n",
       "<style scoped>\n",
       "    .dataframe tbody tr th:only-of-type {\n",
       "        vertical-align: middle;\n",
       "    }\n",
       "\n",
       "    .dataframe tbody tr th {\n",
       "        vertical-align: top;\n",
       "    }\n",
       "\n",
       "    .dataframe thead th {\n",
       "        text-align: right;\n",
       "    }\n",
       "</style>\n",
       "<table border=\"1\" class=\"dataframe\">\n",
       "  <thead>\n",
       "    <tr style=\"text-align: right;\">\n",
       "      <th></th>\n",
       "      <th>correction_description</th>\n",
       "      <th>part_name</th>\n",
       "    </tr>\n",
       "  </thead>\n",
       "  <tbody>\n",
       "    <tr>\n",
       "      <th>0</th>\n",
       "      <td>inspected vehicle for clicking and no start co...</td>\n",
       "      <td>1.0</td>\n",
       "    </tr>\n",
       "    <tr>\n",
       "      <th>1</th>\n",
       "      <td>check for no start just click checked for a no...</td>\n",
       "      <td>1.0</td>\n",
       "    </tr>\n",
       "    <tr>\n",
       "      <th>2</th>\n",
       "      <td>inspect no start check codes-p127a starter con...</td>\n",
       "      <td>1.0</td>\n",
       "    </tr>\n",
       "    <tr>\n",
       "      <th>3</th>\n",
       "      <td>check no start    ok now remove connections of...</td>\n",
       "      <td>1.0</td>\n",
       "    </tr>\n",
       "    <tr>\n",
       "      <th>4</th>\n",
       "      <td>7 way connector wiring has melted on exhaust r...</td>\n",
       "      <td>1.0</td>\n",
       "    </tr>\n",
       "  </tbody>\n",
       "</table>\n",
       "</div>"
      ],
      "text/plain": [
       "                              correction_description  part_name\n",
       "0  inspected vehicle for clicking and no start co...        1.0\n",
       "1  check for no start just click checked for a no...        1.0\n",
       "2  inspect no start check codes-p127a starter con...        1.0\n",
       "3  check no start    ok now remove connections of...        1.0\n",
       "4  7 way connector wiring has melted on exhaust r...        1.0"
      ]
     },
     "execution_count": 9,
     "metadata": {},
     "output_type": "execute_result"
    }
   ],
   "source": [
    "dataframe.head()"
   ]
  },
  {
   "cell_type": "markdown",
   "metadata": {},
   "source": [
    "### Create a vector of words to iterate"
   ]
  },
  {
   "cell_type": "code",
   "execution_count": 10,
   "metadata": {},
   "outputs": [],
   "source": [
    "for i in range(0, dataframe.shape[0]):\n",
    "    dataframe['correction_description'][i] = dataframe['correction_description'][i].split()"
   ]
  },
  {
   "cell_type": "code",
   "execution_count": 11,
   "metadata": {},
   "outputs": [
    {
     "data": {
      "text/html": [
       "<div>\n",
       "<style scoped>\n",
       "    .dataframe tbody tr th:only-of-type {\n",
       "        vertical-align: middle;\n",
       "    }\n",
       "\n",
       "    .dataframe tbody tr th {\n",
       "        vertical-align: top;\n",
       "    }\n",
       "\n",
       "    .dataframe thead th {\n",
       "        text-align: right;\n",
       "    }\n",
       "</style>\n",
       "<table border=\"1\" class=\"dataframe\">\n",
       "  <thead>\n",
       "    <tr style=\"text-align: right;\">\n",
       "      <th></th>\n",
       "      <th>correction_description</th>\n",
       "      <th>part_name</th>\n",
       "    </tr>\n",
       "  </thead>\n",
       "  <tbody>\n",
       "    <tr>\n",
       "      <th>0</th>\n",
       "      <td>[inspected, vehicle, for, clicking, and, no, s...</td>\n",
       "      <td>1.0</td>\n",
       "    </tr>\n",
       "    <tr>\n",
       "      <th>1</th>\n",
       "      <td>[check, for, no, start, just, click, checked, ...</td>\n",
       "      <td>1.0</td>\n",
       "    </tr>\n",
       "    <tr>\n",
       "      <th>2</th>\n",
       "      <td>[inspect, no, start, check, codes-p127a, start...</td>\n",
       "      <td>1.0</td>\n",
       "    </tr>\n",
       "    <tr>\n",
       "      <th>3</th>\n",
       "      <td>[check, no, start, ok, now, remove, connection...</td>\n",
       "      <td>1.0</td>\n",
       "    </tr>\n",
       "    <tr>\n",
       "      <th>4</th>\n",
       "      <td>[7, way, connector, wiring, has, melted, on, e...</td>\n",
       "      <td>1.0</td>\n",
       "    </tr>\n",
       "  </tbody>\n",
       "</table>\n",
       "</div>"
      ],
      "text/plain": [
       "                              correction_description  part_name\n",
       "0  [inspected, vehicle, for, clicking, and, no, s...        1.0\n",
       "1  [check, for, no, start, just, click, checked, ...        1.0\n",
       "2  [inspect, no, start, check, codes-p127a, start...        1.0\n",
       "3  [check, no, start, ok, now, remove, connection...        1.0\n",
       "4  [7, way, connector, wiring, has, melted, on, e...        1.0"
      ]
     },
     "execution_count": 11,
     "metadata": {},
     "output_type": "execute_result"
    }
   ],
   "source": [
    "dataframe.head()"
   ]
  },
  {
   "cell_type": "markdown",
   "metadata": {},
   "source": [
    "### Remove unnecessary words like prepositions "
   ]
  },
  {
   "cell_type": "code",
   "execution_count": 12,
   "metadata": {},
   "outputs": [
    {
     "name": "stderr",
     "output_type": "stream",
     "text": [
      "[nltk_data] Downloading package stopwords to\n",
      "[nltk_data]     C:\\Users\\brenn\\AppData\\Roaming\\nltk_data...\n",
      "[nltk_data]   Package stopwords is already up-to-date!\n"
     ]
    }
   ],
   "source": [
    "import nltk \n",
    "nltk.download('stopwords')\n",
    "from nltk.corpus import stopwords"
   ]
  },
  {
   "cell_type": "code",
   "execution_count": 13,
   "metadata": {},
   "outputs": [],
   "source": [
    "for i in range(0, dataframe.shape[0]):\n",
    "    dataframe['correction_description'][i] = [word for word in dataframe['correction_description'][i] if not word in stopwords.words('english')]"
   ]
  },
  {
   "cell_type": "code",
   "execution_count": 14,
   "metadata": {},
   "outputs": [
    {
     "data": {
      "text/html": [
       "<div>\n",
       "<style scoped>\n",
       "    .dataframe tbody tr th:only-of-type {\n",
       "        vertical-align: middle;\n",
       "    }\n",
       "\n",
       "    .dataframe tbody tr th {\n",
       "        vertical-align: top;\n",
       "    }\n",
       "\n",
       "    .dataframe thead th {\n",
       "        text-align: right;\n",
       "    }\n",
       "</style>\n",
       "<table border=\"1\" class=\"dataframe\">\n",
       "  <thead>\n",
       "    <tr style=\"text-align: right;\">\n",
       "      <th></th>\n",
       "      <th>correction_description</th>\n",
       "      <th>part_name</th>\n",
       "    </tr>\n",
       "  </thead>\n",
       "  <tbody>\n",
       "    <tr>\n",
       "      <th>0</th>\n",
       "      <td>[inspected, vehicle, clicking, start, confirme...</td>\n",
       "      <td>1.0</td>\n",
       "    </tr>\n",
       "    <tr>\n",
       "      <th>1</th>\n",
       "      <td>[check, start, click, checked, start, started,...</td>\n",
       "      <td>1.0</td>\n",
       "    </tr>\n",
       "    <tr>\n",
       "      <th>2</th>\n",
       "      <td>[inspect, start, check, codes-p127a, starter, ...</td>\n",
       "      <td>1.0</td>\n",
       "    </tr>\n",
       "    <tr>\n",
       "      <th>3</th>\n",
       "      <td>[check, start, ok, remove, connections, starte...</td>\n",
       "      <td>1.0</td>\n",
       "    </tr>\n",
       "    <tr>\n",
       "      <th>4</th>\n",
       "      <td>[7, way, connector, wiring, melted, exhaust, r...</td>\n",
       "      <td>1.0</td>\n",
       "    </tr>\n",
       "  </tbody>\n",
       "</table>\n",
       "</div>"
      ],
      "text/plain": [
       "                              correction_description  part_name\n",
       "0  [inspected, vehicle, clicking, start, confirme...        1.0\n",
       "1  [check, start, click, checked, start, started,...        1.0\n",
       "2  [inspect, start, check, codes-p127a, starter, ...        1.0\n",
       "3  [check, start, ok, remove, connections, starte...        1.0\n",
       "4  [7, way, connector, wiring, melted, exhaust, r...        1.0"
      ]
     },
     "execution_count": 14,
     "metadata": {},
     "output_type": "execute_result"
    }
   ],
   "source": [
    "dataframe.head()"
   ]
  },
  {
   "cell_type": "markdown",
   "metadata": {},
   "source": [
    "### Remove verbal time from the words, for example inspected will become inspect"
   ]
  },
  {
   "cell_type": "code",
   "execution_count": 15,
   "metadata": {},
   "outputs": [],
   "source": [
    "from nltk.stem.porter import PorterStemmer\n",
    "ps = PorterStemmer()\n",
    "for i in range(0, dataframe.shape[0]):\n",
    "    dataframe['correction_description'][i] = [ps.stem(word) for word in dataframe['correction_description'][i] if not word in stopwords.words('english')]"
   ]
  },
  {
   "cell_type": "code",
   "execution_count": 16,
   "metadata": {},
   "outputs": [
    {
     "data": {
      "text/html": [
       "<div>\n",
       "<style scoped>\n",
       "    .dataframe tbody tr th:only-of-type {\n",
       "        vertical-align: middle;\n",
       "    }\n",
       "\n",
       "    .dataframe tbody tr th {\n",
       "        vertical-align: top;\n",
       "    }\n",
       "\n",
       "    .dataframe thead th {\n",
       "        text-align: right;\n",
       "    }\n",
       "</style>\n",
       "<table border=\"1\" class=\"dataframe\">\n",
       "  <thead>\n",
       "    <tr style=\"text-align: right;\">\n",
       "      <th></th>\n",
       "      <th>correction_description</th>\n",
       "      <th>part_name</th>\n",
       "    </tr>\n",
       "  </thead>\n",
       "  <tbody>\n",
       "    <tr>\n",
       "      <th>0</th>\n",
       "      <td>[inspect, vehicl, click, start, confirm, custo...</td>\n",
       "      <td>1.0</td>\n",
       "    </tr>\n",
       "    <tr>\n",
       "      <th>1</th>\n",
       "      <td>[check, start, click, check, start, start, ok,...</td>\n",
       "      <td>1.0</td>\n",
       "    </tr>\n",
       "    <tr>\n",
       "      <th>2</th>\n",
       "      <td>[inspect, start, check, codes-p127a, starter, ...</td>\n",
       "      <td>1.0</td>\n",
       "    </tr>\n",
       "    <tr>\n",
       "      <th>3</th>\n",
       "      <td>[check, start, ok, remov, connect, starter, &amp;,...</td>\n",
       "      <td>1.0</td>\n",
       "    </tr>\n",
       "    <tr>\n",
       "      <th>4</th>\n",
       "      <td>[7, way, connector, wire, melt, exhaust, requi...</td>\n",
       "      <td>1.0</td>\n",
       "    </tr>\n",
       "  </tbody>\n",
       "</table>\n",
       "</div>"
      ],
      "text/plain": [
       "                              correction_description  part_name\n",
       "0  [inspect, vehicl, click, start, confirm, custo...        1.0\n",
       "1  [check, start, click, check, start, start, ok,...        1.0\n",
       "2  [inspect, start, check, codes-p127a, starter, ...        1.0\n",
       "3  [check, start, ok, remov, connect, starter, &,...        1.0\n",
       "4  [7, way, connector, wire, melt, exhaust, requi...        1.0"
      ]
     },
     "execution_count": 16,
     "metadata": {},
     "output_type": "execute_result"
    }
   ],
   "source": [
    "dataframe.head()"
   ]
  },
  {
   "cell_type": "markdown",
   "metadata": {},
   "source": [
    "### Not necessary to iterate anymore, transforming it back to string"
   ]
  },
  {
   "cell_type": "code",
   "execution_count": 17,
   "metadata": {},
   "outputs": [],
   "source": [
    "for i in range(0, dataframe.shape[0]):\n",
    "    dataframe['correction_description'][i] = ' '.join(dataframe['correction_description'][i])"
   ]
  },
  {
   "cell_type": "code",
   "execution_count": 19,
   "metadata": {},
   "outputs": [
    {
     "data": {
      "text/html": [
       "<div>\n",
       "<style scoped>\n",
       "    .dataframe tbody tr th:only-of-type {\n",
       "        vertical-align: middle;\n",
       "    }\n",
       "\n",
       "    .dataframe tbody tr th {\n",
       "        vertical-align: top;\n",
       "    }\n",
       "\n",
       "    .dataframe thead th {\n",
       "        text-align: right;\n",
       "    }\n",
       "</style>\n",
       "<table border=\"1\" class=\"dataframe\">\n",
       "  <thead>\n",
       "    <tr style=\"text-align: right;\">\n",
       "      <th></th>\n",
       "      <th>correction_description</th>\n",
       "      <th>part_name</th>\n",
       "    </tr>\n",
       "  </thead>\n",
       "  <tbody>\n",
       "    <tr>\n",
       "      <th>0</th>\n",
       "      <td>inspect vehicl click start confirm custom comp...</td>\n",
       "      <td>1.0</td>\n",
       "    </tr>\n",
       "    <tr>\n",
       "      <th>1</th>\n",
       "      <td>check start click check start start ok tri los...</td>\n",
       "      <td>1.0</td>\n",
       "    </tr>\n",
       "    <tr>\n",
       "      <th>2</th>\n",
       "      <td>inspect start check codes-p127a starter contro...</td>\n",
       "      <td>1.0</td>\n",
       "    </tr>\n",
       "    <tr>\n",
       "      <th>3</th>\n",
       "      <td>check start ok remov connect starter &amp; check o...</td>\n",
       "      <td>1.0</td>\n",
       "    </tr>\n",
       "    <tr>\n",
       "      <th>4</th>\n",
       "      <td>7 way connector wire melt exhaust requir wirin...</td>\n",
       "      <td>1.0</td>\n",
       "    </tr>\n",
       "  </tbody>\n",
       "</table>\n",
       "</div>"
      ],
      "text/plain": [
       "                              correction_description  part_name\n",
       "0  inspect vehicl click start confirm custom comp...        1.0\n",
       "1  check start click check start start ok tri los...        1.0\n",
       "2  inspect start check codes-p127a starter contro...        1.0\n",
       "3  check start ok remov connect starter & check o...        1.0\n",
       "4  7 way connector wire melt exhaust requir wirin...        1.0"
      ]
     },
     "execution_count": 19,
     "metadata": {},
     "output_type": "execute_result"
    }
   ],
   "source": [
    "dataframe.head()"
   ]
  },
  {
   "cell_type": "markdown",
   "metadata": {},
   "source": [
    "## Creating the bag of words"
   ]
  },
  {
   "cell_type": "code",
   "execution_count": 33,
   "metadata": {},
   "outputs": [],
   "source": [
    "from sklearn.feature_extraction.text import CountVectorizer\n",
    "cv = CountVectorizer()\n",
    "X = cv.fit_transform(dataframe['correction_description'])\n",
    "y = dataframe['part_name']"
   ]
  },
  {
   "cell_type": "code",
   "execution_count": 34,
   "metadata": {},
   "outputs": [
    {
     "data": {
      "text/plain": [
       "(49, 313)"
      ]
     },
     "execution_count": 34,
     "metadata": {},
     "output_type": "execute_result"
    }
   ],
   "source": [
    "X.shape # 49 lines, 313 different words "
   ]
  },
  {
   "cell_type": "code",
   "execution_count": 35,
   "metadata": {},
   "outputs": [
    {
     "data": {
      "text/plain": [
       "(49,)"
      ]
     },
     "execution_count": 35,
     "metadata": {},
     "output_type": "execute_result"
    }
   ],
   "source": [
    "y.shape"
   ]
  },
  {
   "cell_type": "markdown",
   "metadata": {},
   "source": [
    "### We are ready to create the machine learning model"
   ]
  },
  {
   "cell_type": "code",
   "execution_count": 39,
   "metadata": {},
   "outputs": [],
   "source": [
    "# Splitting the data for train and test\n",
    "from sklearn.model_selection import train_test_split\n",
    "X_train, X_test, y_train, y_test = train_test_split(X, y, test_size = 0.2, random_state = 0) "
   ]
  },
  {
   "cell_type": "markdown",
   "metadata": {},
   "source": [
    "### Naive Bayes is one of the most popular models for natural language processing"
   ]
  },
  {
   "cell_type": "code",
   "execution_count": 42,
   "metadata": {},
   "outputs": [
    {
     "data": {
      "text/plain": [
       "GaussianNB(priors=None, var_smoothing=1e-09)"
      ]
     },
     "execution_count": 42,
     "metadata": {},
     "output_type": "execute_result"
    }
   ],
   "source": [
    "from sklearn.naive_bayes import GaussianNB\n",
    "classifier = GaussianNB()\n",
    "\n",
    "classifier.fit(X_train, y_train)\n",
    "y_pred = classifier.predict(X_test)\n",
    "y_test = y_test.to_numpy()"
   ]
  },
  {
   "cell_type": "markdown",
   "metadata": {},
   "source": [
    "## The model predicted correctly: 1 true negative and 6 true positives.\n",
    "## The model predicted incorrectly: 3 false negatives. "
   ]
  },
  {
   "cell_type": "code",
   "execution_count": 93,
   "metadata": {},
   "outputs": [
    {
     "name": "stdout",
     "output_type": "stream",
     "text": [
      "\n",
      "\n",
      "Correct: Starter\t Predicted: Alternator\t Incorrect prediction\n",
      "Correct: Starter\t Predicted: Alternator\t Incorrect prediction\n",
      "Correct: Starter\t Predicted: Started\t Correct prediction.\n",
      "Correct: Starter\t Predicted: Started\t Correct prediction.\n",
      "Correct: Starter\t Predicted: Started\t Correct prediction.\n",
      "Correct: Starter\t Predicted: Started\t Correct prediction.\n",
      "Correct: Starter\t Predicted: Alternator\t Incorrect prediction\n",
      "Correct: Alternator\t Predicted: Alternator\t Correct prediction.\n",
      "Correct: Starter\t Predicted: Started\t Correct prediction.\n",
      "Correct: Starter\t Predicted: Started\t Correct prediction.\n",
      "\n",
      "Accuracy 70.00%\n"
     ]
    }
   ],
   "source": [
    "incorrect = 0\n",
    "print(\"\\n\")\n",
    "for i in range(0, 10):\n",
    "    print(\"Correct: \", end = '')\n",
    "    if(y_test[i] == 1):\n",
    "        print(\"Starter\", end = '')\n",
    "    else:\n",
    "        print(\"Alternator\", end = '')\n",
    "    print(\"\\t Predicted: \", end = '')\n",
    "    if(y_pred[i] == 1):\n",
    "        print(\"Started\", end = '')\n",
    "    else:\n",
    "        print(\"Alternator\", end = '')\n",
    "    if(y_test[i] == y_pred[i]):\n",
    "        print(\"\\t Correct prediction.\")\n",
    "    else:\n",
    "        print(\"\\t Incorrect prediction\")\n",
    "        incorrect = incorrect + 1\n",
    "        \n",
    "print(\"\\nAccuracy %.2f%%\" %(100 - (float)(100*incorrect/y_pred.size)))"
   ]
  },
  {
   "cell_type": "code",
   "execution_count": 47,
   "metadata": {},
   "outputs": [
    {
     "data": {
      "text/plain": [
       "<matplotlib.axes._subplots.AxesSubplot at 0x1cbb60bfb38>"
      ]
     },
     "execution_count": 47,
     "metadata": {},
     "output_type": "execute_result"
    },
    {
     "data": {
      "image/png": "[encoded data removed]",
      "text/plain": [
       "<Figure size 432x288 with 2 Axes>"
      ]
     },
     "metadata": {
      "needs_background": "light"
     },
     "output_type": "display_data"
    }
   ],
   "source": [
    "from sklearn.metrics import confusion_matrix \n",
    "cm = confusion_matrix(y_test, y_pred)\n",
    "sns.heatmap(cm, annot = True)"
   ]
  },
  {
   "cell_type": "markdown",
   "metadata": {},
   "source": [
    "## For a better accuracy, more data would be necessary to better train the model"
   ]
  }
 ],
 "metadata": {
  "kernelspec": {
   "display_name": "Python 3",
   "language": "python",
   "name": "python3"
  },
  "language_info": {
   "codemirror_mode": {
    "name": "ipython",
    "version": 3
   },
   "file_extension": ".py",
   "mimetype": "text/x-python",
   "name": "python",
   "nbconvert_exporter": "python",
   "pygments_lexer": "ipython3",
   "version": "3.7.3"
  }
 },
 "nbformat": 4,
 "nbformat_minor": 2
}
